{
 "cells": [
  {
   "cell_type": "markdown",
   "id": "00070c7f",
   "metadata": {},
   "source": [
    "## Punto 2"
   ]
  },
  {
   "cell_type": "code",
   "execution_count": 35,
   "id": "17d2eed8",
   "metadata": {},
   "outputs": [],
   "source": [
    "x = 10\n",
    "from pyomo.environ import *\n",
    "model = ConcreteModel()"
   ]
  },
  {
   "cell_type": "code",
   "execution_count": 36,
   "id": "57f7b796",
   "metadata": {},
   "outputs": [],
   "source": [
    "t, w = 3, 5\n",
    "\n",
    "model.T = RangeSet(t) #Trabajadores\n",
    "model.W = RangeSet(w) #Trabajos\n",
    "model.x = Var(model.T, model.W, domain=Binary) #La variable es binaria"
   ]
  },
  {
   "cell_type": "markdown",
   "id": "e21d7dff",
   "metadata": {},
   "source": [
    "Parámetros"
   ]
  },
  {
   "cell_type": "code",
   "execution_count": 37,
   "id": "62979884",
   "metadata": {},
   "outputs": [],
   "source": [
    "# Horas que puede trabajar cada trabajador\n",
    "h_data = {1: 8, 2: 10, 3: 6}\n",
    "\n",
    "model.h_disp = Param(model.T, initialize=h_data)"
   ]
  },
  {
   "cell_type": "code",
   "execution_count": 38,
   "id": "607dd980",
   "metadata": {},
   "outputs": [],
   "source": [
    "# Ganancia por trabajo\n",
    "g_data = {1: 50, 2: 60, 3: 40, 4: 70, 5: 30}\n",
    "\n",
    "model.ganancias = Param(model.W, initialize=g_data)"
   ]
  },
  {
   "cell_type": "code",
   "execution_count": 39,
   "id": "fceaf93f",
   "metadata": {},
   "outputs": [],
   "source": [
    "# Horas para completar un trabajo\n",
    "\n",
    "hr_data = {1: 4, 2: 5, 3: 3, 4: 6, 5: 2}\n",
    "\n",
    "model.h_reque = Param(model.W, initialize=hr_data)"
   ]
  },
  {
   "cell_type": "code",
   "execution_count": 40,
   "id": "4e81d68a",
   "metadata": {},
   "outputs": [
    {
     "name": "stdout",
     "output_type": "stream",
     "text": [
      "Trabajo 1 tiene 4 horas requeridas\n",
      "Trabajo 2 tiene 5 horas requeridas\n",
      "Trabajo 3 tiene 3 horas requeridas\n",
      "Trabajo 4 tiene 6 horas requeridas\n",
      "Trabajo 5 tiene 2 horas requeridas\n"
     ]
    }
   ],
   "source": [
    "for w in model.W:\n",
    "    print(f\"Trabajo {w} tiene {model.h_reque[w]} horas requeridas\")"
   ]
  },
  {
   "cell_type": "markdown",
   "id": "8b314a2a",
   "metadata": {},
   "source": [
    "Funcion Objetivo"
   ]
  },
  {
   "cell_type": "code",
   "execution_count": 41,
   "id": "72f9e47d",
   "metadata": {},
   "outputs": [],
   "source": [
    "model.obj = Objective(expr = sum(model.ganancias[t] * model.x[t, w] for t in model.T for w in model.W),\n",
    "                        sense = maximize)"
   ]
  },
  {
   "cell_type": "markdown",
   "id": "9ac1620b",
   "metadata": {},
   "source": [
    "Restricciones"
   ]
  },
  {
   "cell_type": "code",
   "execution_count": 42,
   "id": "91f41396",
   "metadata": {},
   "outputs": [],
   "source": [
    "def restriccion_trabajo(model, w):\n",
    "    return sum(model.x[t, w] for t in model.T) <= 1\n",
    "\n",
    "model.restriccion_un_trabajador = Constraint(model.W, rule=restriccion_trabajo)"
   ]
  },
  {
   "cell_type": "code",
   "execution_count": 43,
   "id": "64591acb",
   "metadata": {},
   "outputs": [
    {
     "name": "stdout",
     "output_type": "stream",
     "text": [
      "restriccion_un_trabajador : Size=5, Index=W, Active=True\n",
      "    Key : Lower : Body                     : Upper : Active\n",
      "      1 :  -Inf : x[1,1] + x[2,1] + x[3,1] :   1.0 :   True\n",
      "      2 :  -Inf : x[1,2] + x[2,2] + x[3,2] :   1.0 :   True\n",
      "      3 :  -Inf : x[1,3] + x[2,3] + x[3,3] :   1.0 :   True\n",
      "      4 :  -Inf : x[1,4] + x[2,4] + x[3,4] :   1.0 :   True\n",
      "      5 :  -Inf : x[1,5] + x[2,5] + x[3,5] :   1.0 :   True\n"
     ]
    }
   ],
   "source": [
    "model.restriccion_un_trabajador.pprint()"
   ]
  },
  {
   "cell_type": "code",
   "execution_count": 44,
   "id": "ccd6be27",
   "metadata": {},
   "outputs": [],
   "source": [
    "def restriccion_horario(model, t):\n",
    "    return sum(model.x[t, w] * model.h_reque[w] for w in model.W) <= model.h_disp[t]\n",
    "\n",
    "model.restriccion_horario = Constraint(model.T, rule=restriccion_horario)\n"
   ]
  },
  {
   "cell_type": "code",
   "execution_count": 45,
   "id": "a2478378",
   "metadata": {},
   "outputs": [
    {
     "name": "stdout",
     "output_type": "stream",
     "text": [
      "restriccion_horario : Size=3, Index=T, Active=True\n",
      "    Key : Lower : Body                                                 : Upper : Active\n",
      "      1 :  -Inf : 4*x[1,1] + 5*x[1,2] + 3*x[1,3] + 6*x[1,4] + 2*x[1,5] :   8.0 :   True\n",
      "      2 :  -Inf : 4*x[2,1] + 5*x[2,2] + 3*x[2,3] + 6*x[2,4] + 2*x[2,5] :  10.0 :   True\n",
      "      3 :  -Inf : 4*x[3,1] + 5*x[3,2] + 3*x[3,3] + 6*x[3,4] + 2*x[3,5] :   6.0 :   True\n"
     ]
    }
   ],
   "source": [
    "model.restriccion_horario.pprint()"
   ]
  },
  {
   "cell_type": "markdown",
   "id": "dad0f3dc",
   "metadata": {},
   "source": [
    "Resolver el modelo"
   ]
  },
  {
   "cell_type": "code",
   "execution_count": 46,
   "id": "378e7209",
   "metadata": {},
   "outputs": [],
   "source": [
    "from pyomo.opt import SolverFactory\n",
    "import os, pathlib\n",
    "\n",
    "exe = pathlib.Path(os.environ[\"CONDA_PREFIX\"]) / \"Library\" / \"bin\" / \"glpsol.exe\"\n",
    "solver = SolverFactory(\"glpk\", executable=str(exe))\n",
    "results = solver.solve(model)\n"
   ]
  },
  {
   "cell_type": "code",
   "execution_count": 47,
   "id": "4be5009d",
   "metadata": {},
   "outputs": [
    {
     "name": "stdout",
     "output_type": "stream",
     "text": [
      " x [1 ,1] = 0.0 \n",
      " x [1 ,2] = 0.0 \n",
      " x [1 ,3] = 0.0 \n",
      " x [1 ,4] = 1.0 \n",
      " x [1 ,5] = 0.0 \n",
      " x [2 ,1] = 0.0 \n",
      " x [2 ,2] = 1.0 \n",
      " x [2 ,3] = 1.0 \n",
      " x [2 ,4] = 0.0 \n",
      " x [2 ,5] = 1.0 \n",
      " x [3 ,1] = 1.0 \n",
      " x [3 ,2] = 0.0 \n",
      " x [3 ,3] = 0.0 \n",
      " x [3 ,4] = 0.0 \n",
      " x [3 ,5] = 0.0 \n"
     ]
    }
   ],
   "source": [
    "for t in model.T :\n",
    "    for w in model.W:\n",
    "        print (f\" x [{ t } ,{ w }] = { model.x [t, w].value} \")"
   ]
  },
  {
   "cell_type": "markdown",
   "id": "fad8e789",
   "metadata": {},
   "source": [
    "## Parte B"
   ]
  },
  {
   "cell_type": "code",
   "execution_count": 48,
   "id": "263ec6f9",
   "metadata": {},
   "outputs": [],
   "source": [
    "# Solo el trabajador 1 puede realizar el trabajo 1\n",
    "\n",
    "def restriccion_trabajador1(model, t):\n",
    "    if t != 1:\n",
    "        return model.x[t, 1] == 0\n",
    "    return Constraint.Skip\n",
    "\n",
    "model.restriccion_trabajador1 = Constraint(model.T, rule=restriccion_trabajador1)\n"
   ]
  },
  {
   "cell_type": "code",
   "execution_count": 50,
   "id": "74a9a636",
   "metadata": {},
   "outputs": [],
   "source": [
    "# El trabajador 2 no puede realizar el trabajo 3\n",
    "\n",
    "model.restriccion_trabajador2 = Constraint(expr=model.x[2, 3] == 0)"
   ]
  },
  {
   "cell_type": "code",
   "execution_count": 52,
   "id": "32ad801f",
   "metadata": {},
   "outputs": [
    {
     "name": "stdout",
     "output_type": "stream",
     "text": [
      " x [1 ,1] = 1.0 \n",
      " x [1 ,2] = 0.0 \n",
      " x [1 ,3] = 1.0 \n",
      " x [1 ,4] = 0.0 \n",
      " x [1 ,5] = 0.0 \n",
      " x [2 ,1] = 0.0 \n",
      " x [2 ,2] = 1.0 \n",
      " x [2 ,3] = 0.0 \n",
      " x [2 ,4] = 0.0 \n",
      " x [2 ,5] = 1.0 \n",
      " x [3 ,1] = 0.0 \n",
      " x [3 ,2] = 0.0 \n",
      " x [3 ,3] = 0.0 \n",
      " x [3 ,4] = 1.0 \n",
      " x [3 ,5] = 0.0 \n"
     ]
    }
   ],
   "source": [
    "results = solver.solve(model)\n",
    "for t in model.T :\n",
    "    for w in model.W:\n",
    "        print (f\" x [{ t } ,{ w }] = { model.x [t, w].value} \")"
   ]
  }
 ],
 "metadata": {
  "kernelspec": {
   "display_name": "pyomo39",
   "language": "python",
   "name": "python3"
  },
  "language_info": {
   "codemirror_mode": {
    "name": "ipython",
    "version": 3
   },
   "file_extension": ".py",
   "mimetype": "text/x-python",
   "name": "python",
   "nbconvert_exporter": "python",
   "pygments_lexer": "ipython3",
   "version": "3.9.23"
  }
 },
 "nbformat": 4,
 "nbformat_minor": 5
}

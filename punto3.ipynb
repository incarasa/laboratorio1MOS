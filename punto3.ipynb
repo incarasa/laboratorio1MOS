{
 "cells": [
  {
   "cell_type": "code",
   "execution_count": 12,
   "id": "d928caf2",
   "metadata": {},
   "outputs": [
    {
     "name": "stdout",
     "output_type": "stream",
     "text": [
      "\n",
      "Valor óptimo de la función objetivo = 370.0\n",
      "\n",
      "=== Asignaciones óptimas ===\n",
      "El recurso Alimentos Basicos fue asignada al avion 2\n",
      "El recurso Medicinas fue asignada al avion 2\n",
      "El recurso Equipos Medicos fue asignada al avion 1\n",
      "El recurso Agua Potable fue asignada al avion 2\n",
      "El recurso Mantas fue asignada al avion 1\n"
     ]
    }
   ],
   "source": [
    "from pyomo.environ import *\n",
    "from pyomo.opt import SolverFactory\n",
    "import os, pathlib\n",
    "\n",
    "exe = pathlib.Path(os.environ[\"CONDA_PREFIX\"]) / \"Library\" / \"bin\" / \"glpsol.exe\"\n",
    "solver = SolverFactory(\"glpk\", executable=str(exe))\n",
    "model = ConcreteModel()\n",
    "\n",
    "#Conjuntos\n",
    "model.R = (\"Alimentos Basicos\", \"Medicinas\", \"Equipos Medicos\", \"Agua Potable\", \"Mantas\")\n",
    "model.A = RangeSet(3)\n",
    "\n",
    "#Parametros\n",
    "P = {\n",
    "    \"Alimentos Basicos\": 50,\n",
    "    \"Medicinas\": 100,\n",
    "    \"Equipos Medicos\": 120,\n",
    "    \"Agua Potable\": 60,\n",
    "    \"Mantas\": 40\n",
    "}\n",
    "\n",
    "S = {\n",
    "    \"Alimentos Basicos\": 15,\n",
    "    \"Medicinas\": 5,\n",
    "    \"Equipos Medicos\": 20,\n",
    "    \"Agua Potable\": 18,\n",
    "    \"Mantas\": 10\n",
    "}\n",
    "\n",
    "V = {\n",
    "    \"Alimentos Basicos\": 8,\n",
    "    \"Medicinas\": 2,\n",
    "    \"Equipos Medicos\": 10,\n",
    "    \"Agua Potable\": 12,\n",
    "    \"Mantas\": 6\n",
    "}\n",
    "\n",
    "W = {\n",
    "    1: 30,\n",
    "    2: 40,\n",
    "    3: 50\n",
    "}\n",
    "\n",
    "VA = {\n",
    "    1: 25,\n",
    "    2: 30,\n",
    "    3: 35\n",
    "}\n",
    "\n",
    "#Variable de decisión\n",
    "model.x = Var(model.R, model.A, within=Binary)\n",
    "\n",
    "\n",
    "#Funcion Objetivo\n",
    "model.obj = Objective(expr= sum(model.x[r, a] * P[r] for r in model.R for a in model.A), sense = maximize)\n",
    "\n",
    "#Restricciones\n",
    "\n",
    "model.unrecursounavion = ConstraintList()\n",
    "for r in model.R:\n",
    "    model.unrecursounavion.add(expr= sum(model.x[r, a] for a in model.A) <= 1)\n",
    "\n",
    "\n",
    "\n",
    "model.volumenmax = ConstraintList()\n",
    "for a in model.A:\n",
    "    model.volumenmax.add(expr= sum(model.x[r,a] * V[r] for r in model.R) <= VA[a])\n",
    "\n",
    "\n",
    "model.pesomax = ConstraintList()\n",
    "for a in model.A:\n",
    "    model.pesomax.add(expr= sum(model.x[r,a] * S[r] for r in model.R) <= W[a])\n",
    "\n",
    "\n",
    "solver.solve(model)\n",
    "print()\n",
    "\n",
    "print(\"Valor óptimo de la función objetivo =\", model.obj())\n",
    "\n",
    "\n",
    "print(\"\\n=== Asignaciones óptimas ===\")\n",
    "for r in model.R:\n",
    "    for a in model.A:\n",
    "        if value(model.x[r, a]) > 0.5:  \n",
    "            print(f\"El recurso {r} fue asignada al avion {a}\")"
   ]
  },
  {
   "cell_type": "markdown",
   "id": "9c267831",
   "metadata": {},
   "source": [
    "## Parte B"
   ]
  },
  {
   "cell_type": "code",
   "execution_count": 13,
   "id": "bddcb2b3",
   "metadata": {},
   "outputs": [],
   "source": [
    "# Medicinas no pueden ir en el avión 1\n",
    "\n",
    "model.restriccion_medicinas = Constraint(expr=model.x['Medicinas', 1] == 0)"
   ]
  },
  {
   "cell_type": "code",
   "execution_count": 14,
   "id": "e453b035",
   "metadata": {},
   "outputs": [],
   "source": [
    "# Equipos médicos y agua potable no pueden ir en el mismo avión:\n",
    "def no_combo(model, a):\n",
    "    return model.x[\"Agua Potable\", a] + model.x[\"Equipos Medicos\", a] <= 1\n",
    "\n",
    "model.no_combo = Constraint(model.A, rule=no_combo)"
   ]
  },
  {
   "cell_type": "code",
   "execution_count": 15,
   "id": "89c5ad0a",
   "metadata": {},
   "outputs": [
    {
     "name": "stdout",
     "output_type": "stream",
     "text": [
      "\n",
      "=== Asignaciones óptimas ===\n",
      "El recurso Alimentos Basicos fue asignada al avion 2\n",
      "El recurso Medicinas fue asignada al avion 2\n",
      "El recurso Equipos Medicos fue asignada al avion 1\n",
      "El recurso Agua Potable fue asignada al avion 2\n",
      "El recurso Mantas fue asignada al avion 1\n"
     ]
    }
   ],
   "source": [
    "print(\"\\n=== Asignaciones óptimas ===\")\n",
    "for r in model.R:\n",
    "    for a in model.A:\n",
    "        if value(model.x[r, a]) > 0.5:  \n",
    "            print(f\"El recurso {r} fue asignada al avion {a}\")"
   ]
  }
 ],
 "metadata": {
  "kernelspec": {
   "display_name": "pyomo39",
   "language": "python",
   "name": "python3"
  },
  "language_info": {
   "codemirror_mode": {
    "name": "ipython",
    "version": 3
   },
   "file_extension": ".py",
   "mimetype": "text/x-python",
   "name": "python",
   "nbconvert_exporter": "python",
   "pygments_lexer": "ipython3",
   "version": "3.9.23"
  }
 },
 "nbformat": 4,
 "nbformat_minor": 5
}
